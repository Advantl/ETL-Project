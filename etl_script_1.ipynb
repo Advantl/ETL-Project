{
 "cells": [
  {
   "cell_type": "markdown",
   "metadata": {},
   "source": [
    "# Первый скрипт: получение и загрузка в базу исторических данных."
   ]
  },
  {
   "cell_type": "markdown",
   "metadata": {},
   "source": [
    "Интервал данных для загрузки определяется параметрами:<br>\n",
    "   - HISTORICAL_START_DATE - дата, начиная с которой необходимо получить данные, указать вручную <br>\n",
    "   - HISTORICAL_FINAL_DATE - прошедшие сутки, вычисляется автоматически <br>"
   ]
  },
  {
   "cell_type": "code",
   "execution_count": 1,
   "metadata": {},
   "outputs": [],
   "source": [
    "import psycopg2\n",
    "import configparser\n",
    "from datetime import timedelta\n",
    "from datetime import datetime\n",
    "import requests\n",
    "import json\n",
    "from tqdm import tqdm"
   ]
  },
  {
   "cell_type": "code",
   "execution_count": 2,
   "metadata": {},
   "outputs": [],
   "source": [
    "config = configparser.ConfigParser()\n",
    "config.read(\"config.ini\")\n",
    "\n",
    "HOST = config[\"Database\"][\"HOST\"]\n",
    "DATABASE = config[\"Database\"][\"DATABASE\"]\n",
    "USER  = config[\"Database\"][\"USER\"]\n",
    "PASSWORD  = config[\"Database\"][\"PASSWORD\"]\n",
    "API_URL = config[\"API\"][\"api_url\"]"
   ]
  },
  {
   "cell_type": "code",
   "execution_count": 3,
   "metadata": {},
   "outputs": [],
   "source": [
    "HISTORICAL_START_DATE = datetime(2025, 7, 1, 0, 0, 0, 0) \n",
    "delta = datetime.today() - timedelta(days = 1)\n",
    "HISTORICAL_FINAL_DATE = delta.replace(hour=23, minute=59, second=59, microsecond=999999)"
   ]
  },
  {
   "cell_type": "code",
   "execution_count": 4,
   "metadata": {},
   "outputs": [],
   "source": [
    "def get_response(API_URL, params):\n",
    "    r = requests.get(API_URL, params)\n",
    "    if r.status_code == 200:\n",
    "        r.json()\n",
    "    else:\n",
    "        print(f'connection failed with status_code {r.status_code}')\n",
    "        \n",
    "    return r.json()\n",
    "\n",
    "\n",
    "def extract_response_data(response):\n",
    "    search_arr = [] \n",
    "    \n",
    "    for item in response:\n",
    "        if item:\n",
    "            if not item['passback_params']:\n",
    "                continue\n",
    "            else:\n",
    "                part = item['passback_params'].replace('\\'', '\\\"')\n",
    "                data = json.loads(part)\n",
    "\n",
    "                search_arr.append([\n",
    "                item.get('lti_user_id', None),\n",
    "                data.get('oauth_consumer_key', None),\n",
    "                data.get('lis_result_sourcedid', None),\n",
    "                data.get('lis_outcome_service_url', None),\n",
    "                item.get('is_correct', None),\n",
    "                item.get('attempt_type', None),\n",
    "                item.get('created_at', None)\n",
    "                ])\n",
    "        else:\n",
    "            continue\n",
    "    return search_arr\n",
    "\n",
    "\n",
    "\n",
    "def get_historical_data(HISTORICAL_START_DATE, HISTORICAL_FINAL_DATE):\n",
    "    \n",
    "    conn = psycopg2.connect(\n",
    "        host = HOST,\n",
    "        database = DATABASE,\n",
    "        user = USER,\n",
    "        password = PASSWORD)\n",
    "    \n",
    "    cursor = conn.cursor()\n",
    "\n",
    "    cursor.execute('''\n",
    "        CREATE TABLE IF NOT EXISTS lms_database (\n",
    "            user_id TEXT,\n",
    "            oauth_consumer_key TEXT,\n",
    "            lis_result_sourcedid TEXT,\n",
    "            lis_outcome_service_url TEXT,\n",
    "            is_correct TEXT,\n",
    "            attempt_type TEXT,\n",
    "            created_at TIMESTAMPTZ\n",
    "        )\n",
    "    ''')\n",
    "    conn.commit()\n",
    "    \n",
    "    total_iterations = (HISTORICAL_FINAL_DATE - HISTORICAL_START_DATE).days + 1\n",
    "\n",
    "    while HISTORICAL_START_DATE < HISTORICAL_FINAL_DATE:\n",
    "        for _ in tqdm(range(total_iterations), desc=\"Loading data\"):\n",
    "            END_DATE = HISTORICAL_START_DATE + timedelta(days=1)\n",
    "\n",
    "            if END_DATE > HISTORICAL_FINAL_DATE:\n",
    "                END_DATE = HISTORICAL_FINAL_DATE\n",
    "\n",
    "            params = {\n",
    "                'client': 'Skillfactory',\n",
    "                'client_key': 'M2MGWS',\n",
    "                'start': HISTORICAL_START_DATE,\n",
    "                'end': END_DATE\n",
    "            }\n",
    "\n",
    "            response =  get_response(API_URL, params)\n",
    "\n",
    "            arr = extract_response_data(response)\n",
    "\n",
    "            for row in arr:\n",
    "                cursor.execute('''\n",
    "                    insert into lms_database values (%s, %s, %s, %s, %s, %s, %s)\n",
    "                  ''', row)\n",
    "                conn.commit()\n",
    "\n",
    "\n",
    "            HISTORICAL_START_DATE = END_DATE\n"
   ]
  },
  {
   "cell_type": "code",
   "execution_count": 5,
   "metadata": {},
   "outputs": [
    {
     "name": "stderr",
     "output_type": "stream",
     "text": [
      "Loading data: 100%|████████████████████████████████████████████████████████████████████| 24/24 [14:07<00:00, 35.32s/it]\n"
     ]
    }
   ],
   "source": [
    "get_historical_data(HISTORICAL_START_DATE, HISTORICAL_FINAL_DATE)"
   ]
  },
  {
   "cell_type": "code",
   "execution_count": null,
   "metadata": {},
   "outputs": [],
   "source": []
  }
 ],
 "metadata": {
  "kernelspec": {
   "display_name": "Python 3",
   "language": "python",
   "name": "python3"
  },
  "language_info": {
   "codemirror_mode": {
    "name": "ipython",
    "version": 3
   },
   "file_extension": ".py",
   "mimetype": "text/x-python",
   "name": "python",
   "nbconvert_exporter": "python",
   "pygments_lexer": "ipython3",
   "version": "3.8.5"
  }
 },
 "nbformat": 4,
 "nbformat_minor": 4
}
