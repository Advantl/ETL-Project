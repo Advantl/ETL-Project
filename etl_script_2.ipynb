{
 "cells": [
  {
   "cell_type": "markdown",
   "metadata": {},
   "source": [
    "# Второй скрипт: получение и загрузка данных за прошедшие сутки. "
   ]
  },
  {
   "cell_type": "code",
   "execution_count": 1,
   "metadata": {},
   "outputs": [],
   "source": [
    "import psycopg2\n",
    "import configparser\n",
    "from datetime import timedelta\n",
    "from datetime import datetime\n",
    "import datetime\n",
    "import requests\n",
    "import logging\n",
    "import json\n",
    "import pandas as pd\n",
    "import smtplib, ssl\n",
    "from email.message import EmailMessage\n",
    "import gspread\n",
    "from oauth2client.service_account import ServiceAccountCredentials\n",
    "from google.oauth2 import service_account\n",
    "from googleapiclient.discovery import build\n",
    "import re\n",
    "import os\n",
    "import glob"
   ]
  },
  {
   "cell_type": "code",
   "execution_count": 2,
   "metadata": {},
   "outputs": [],
   "source": [
    "config = configparser.ConfigParser()\n",
    "config.read(\"config.ini\")\n",
    "\n",
    "#БД\n",
    "HOST = config[\"Database\"][\"HOST\"]\n",
    "DATABASE = config[\"Database\"][\"DATABASE\"]\n",
    "USER  = config[\"Database\"][\"USER\"]\n",
    "PASSWORD  = config[\"Database\"][\"PASSWORD\"]\n",
    "API_URL = config[\"API\"][\"api_url\"]\n",
    "\n",
    "#Почта\n",
    "mail_password = config[\"Email\"][\"mail_password\"]\n",
    "sender_mail = config[\"Email\"][\"sender_mail\"]\n",
    "receiver_email  = config[\"Email\"][\"receiver_email\"]\n",
    "smtp_server = config[\"Email\"][\"smtp_server\"]\n",
    "port = config[\"Email\"][\"port\"]"
   ]
  },
  {
   "cell_type": "markdown",
   "metadata": {},
   "source": [
    "## Настройка логирования"
   ]
  },
  {
   "cell_type": "code",
   "execution_count": 3,
   "metadata": {},
   "outputs": [],
   "source": [
    "current_date = datetime.datetime.today().date()\n",
    "\n",
    "# Определяем путь к папке, где находятся лог-файлы\n",
    "log_directory = '/Users/79169/logs'\n",
    "log_file_path = os.path.join(log_directory, f'{current_date}.log')\n",
    "\n",
    "logging.basicConfig(level = logging.INFO, filename = log_file_path, filemode = 'w', format=\\\n",
    "                    '%(levelname)s: %(asctime)s : Line No. : %(lineno)d - %(message)s')\n",
    "\n",
    "logging.info(\"Логирование начато.\")"
   ]
  },
  {
   "cell_type": "markdown",
   "metadata": {},
   "source": [
    "## Обращение к API, получение и обработка данных"
   ]
  },
  {
   "cell_type": "code",
   "execution_count": 4,
   "metadata": {},
   "outputs": [],
   "source": [
    "# Запрос данных из API\n",
    "def get_response(API_URL, params):\n",
    "    r = requests.get(API_URL, params)\n",
    "    if r.status_code == 200:\n",
    "        r.json()\n",
    "        logging.info(f'Соединение установлено, статус код: {r.status_code}')\n",
    "    else:\n",
    "        logging.info(f'connection failed with status_code {r.status_code}')\n",
    "        \n",
    "    return r.json()\n",
    "\n",
    "# Обработка каждой записи в ответе \n",
    "def extract_response_data(response):\n",
    "    search_arr = [] \n",
    "    \n",
    "    for item in response:\n",
    "        if item:\n",
    "            if not item['passback_params']:\n",
    "                logging.info('passback_params отсутсвует')\n",
    "                continue\n",
    "            else:\n",
    "                part = item['passback_params'].replace('\\'', '\\\"')\n",
    "                data = json.loads(part)\n",
    "\n",
    "                search_arr.append([\n",
    "                item.get('lti_user_id', None),\n",
    "                data.get('oauth_consumer_key', None),\n",
    "                data.get('lis_result_sourcedid', None),\n",
    "                data.get('lis_outcome_service_url', None),\n",
    "                item.get('is_correct', None),\n",
    "                item.get('attempt_type', None),\n",
    "                item.get('created_at', None)\n",
    "                ])\n",
    "        else:\n",
    "            continue\n",
    "    return search_arr"
   ]
  },
  {
   "cell_type": "code",
   "execution_count": 5,
   "metadata": {},
   "outputs": [],
   "source": [
    "# Даты для API запроса (получение данных за прошедшие сутки)\n",
    "START_DATE = (datetime.datetime.today() - timedelta(days = 1)).replace(hour=0, minute=0, second=0, microsecond=0)\n",
    "END_DATE = (datetime.datetime.today() - timedelta(days = 1)).replace(hour=23, minute=59, second=59, microsecond=999999)"
   ]
  },
  {
   "cell_type": "code",
   "execution_count": 6,
   "metadata": {},
   "outputs": [],
   "source": [
    "# Устанавливаем соединение с базой данных\n",
    "conn = psycopg2.connect(\n",
    "    host = HOST,\n",
    "    database = DATABASE,\n",
    "    user = USER,\n",
    "    password = PASSWORD)\n",
    "\n",
    "logging.info('Подключение к БД')\n",
    "\n",
    "cursor = conn.cursor()\n",
    "\n",
    "# SQL-запрос для создания таблицы\n",
    "cursor.execute('''\n",
    "    CREATE TABLE IF NOT EXISTS lms_database (\n",
    "        user_id TEXT,\n",
    "        oauth_consumer_key TEXT,\n",
    "        lis_result_sourcedid TEXT,\n",
    "        lis_outcome_service_url TEXT,\n",
    "        is_correct TEXT,\n",
    "        attempt_type TEXT,\n",
    "        created_at TIMESTAMPTZ\n",
    "    )\n",
    "''')\n",
    "conn.commit()\n",
    "\n",
    "# Параметры API запроса\n",
    "params = {\n",
    "    'client': 'Skillfactory',\n",
    "    'client_key': 'M2MGWS',\n",
    "    'start': START_DATE,\n",
    "    'end': END_DATE\n",
    "}\n",
    "\n",
    "# Запрос данных из API\n",
    "response =  get_response(API_URL, params)\n",
    "\n",
    "# Обработка каждой записи\n",
    "arr = extract_response_data(response)\n",
    "\n",
    "# Параметризованный SQL-запрос для добавления данных в таблицу\n",
    "for row in arr:\n",
    "    cursor.execute('''\n",
    "        insert into lms_database values (%s, %s, %s, %s, %s, %s, %s)\n",
    "      ''', row)\n",
    "    conn.commit()\n",
    "logging.info('Данные загружены в БД')"
   ]
  },
  {
   "cell_type": "markdown",
   "metadata": {},
   "source": [
    "## Расчет метрик, подготовка статистики"
   ]
  },
  {
   "cell_type": "code",
   "execution_count": 7,
   "metadata": {},
   "outputs": [],
   "source": [
    "df = pd.DataFrame(arr)\n",
    "df.columns = ['user_id', 'oauth_consumer_key', 'lis_result_sourcedid', \n",
    "              'lis_outcome_service_url', 'is_correct', 'attempt_type', 'created_at']"
   ]
  },
  {
   "cell_type": "markdown",
   "metadata": {},
   "source": [
    "***1. Анализ попыток:***"
   ]
  },
  {
   "cell_type": "code",
   "execution_count": 8,
   "metadata": {},
   "outputs": [
    {
     "name": "stdout",
     "output_type": "stream",
     "text": [
      "Общее количество попыток: 1640\n"
     ]
    }
   ],
   "source": [
    "# 1. Анализ попыток:\n",
    "total_cnt = len(df)\n",
    "print(f'Общее количество попыток: {total_cnt}')"
   ]
  },
  {
   "cell_type": "markdown",
   "metadata": {},
   "source": [
    "Распределение попыток:"
   ]
  },
  {
   "cell_type": "code",
   "execution_count": 9,
   "metadata": {},
   "outputs": [
    {
     "data": {
      "text/html": [
       "<div>\n",
       "<style scoped>\n",
       "    .dataframe tbody tr th:only-of-type {\n",
       "        vertical-align: middle;\n",
       "    }\n",
       "\n",
       "    .dataframe tbody tr th {\n",
       "        vertical-align: top;\n",
       "    }\n",
       "\n",
       "    .dataframe thead th {\n",
       "        text-align: right;\n",
       "    }\n",
       "</style>\n",
       "<table border=\"1\" class=\"dataframe\">\n",
       "  <thead>\n",
       "    <tr style=\"text-align: right;\">\n",
       "      <th></th>\n",
       "      <th>is_correct</th>\n",
       "      <th>attempt_type</th>\n",
       "    </tr>\n",
       "  </thead>\n",
       "  <tbody>\n",
       "    <tr>\n",
       "      <th>0</th>\n",
       "      <td>0.0</td>\n",
       "      <td>563</td>\n",
       "    </tr>\n",
       "    <tr>\n",
       "      <th>1</th>\n",
       "      <td>1.0</td>\n",
       "      <td>315</td>\n",
       "    </tr>\n",
       "  </tbody>\n",
       "</table>\n",
       "</div>"
      ],
      "text/plain": [
       "   is_correct  attempt_type\n",
       "0         0.0           563\n",
       "1         1.0           315"
      ]
     },
     "execution_count": 9,
     "metadata": {},
     "output_type": "execute_result"
    }
   ],
   "source": [
    "# Успешные попытки:\n",
    "result = df.groupby(['is_correct'])['attempt_type'].count().reset_index()\n",
    "result"
   ]
  },
  {
   "cell_type": "code",
   "execution_count": 10,
   "metadata": {},
   "outputs": [
    {
     "data": {
      "text/plain": [
       "[[0.0, 563.0], [1.0, 315.0]]"
      ]
     },
     "execution_count": 10,
     "metadata": {},
     "output_type": "execute_result"
    }
   ],
   "source": [
    "success_list = result.values.tolist()\n",
    "success_list "
   ]
  },
  {
   "cell_type": "code",
   "execution_count": 11,
   "metadata": {},
   "outputs": [
    {
     "data": {
      "text/plain": [
       "[['is_correct', 'attempt_type'], [0.0, 563.0], [1.0, 315.0]]"
      ]
     },
     "execution_count": 11,
     "metadata": {},
     "output_type": "execute_result"
    }
   ],
   "source": [
    "success_list.insert(0, result.columns.tolist())\n",
    "success_list"
   ]
  },
  {
   "cell_type": "code",
   "execution_count": 12,
   "metadata": {},
   "outputs": [],
   "source": [
    "# Успешные попытки:\n",
    "# result = df.groupby(['attempt_type', 'is_correct']).agg(attempt_count=('is_correct', 'count')).reset_index()\n",
    "# result"
   ]
  },
  {
   "cell_type": "code",
   "execution_count": 13,
   "metadata": {},
   "outputs": [],
   "source": [
    "#result.columns.tolist()"
   ]
  },
  {
   "cell_type": "markdown",
   "metadata": {},
   "source": [
    "***2. Активность пользователей:***"
   ]
  },
  {
   "cell_type": "code",
   "execution_count": 14,
   "metadata": {},
   "outputs": [
    {
     "name": "stdout",
     "output_type": "stream",
     "text": [
      "Количество уникальных пользователей: 105\n"
     ]
    }
   ],
   "source": [
    "unique_users = df['user_id'].nunique()\n",
    "print(f'Количество уникальных пользователей: {unique_users}')"
   ]
  },
  {
   "cell_type": "code",
   "execution_count": 15,
   "metadata": {},
   "outputs": [
    {
     "name": "stdout",
     "output_type": "stream",
     "text": [
      "Среднее количество попыток на пользователя: 16\n",
      "Медианное количество попыток на пользователя: 8\n"
     ]
    }
   ],
   "source": [
    "# Сгруппировать по user_id и подсчитать количество записей на каждого пользователя\n",
    "attempts_per_user = df.groupby('user_id').size()\n",
    "\n",
    "mean_attempts = round(attempts_per_user.mean())\n",
    "median_attempts = round(attempts_per_user.median())\n",
    "\n",
    "print(f\"Среднее количество попыток на пользователя: {mean_attempts}\")\n",
    "print(f\"Медианное количество попыток на пользователя: {median_attempts}\")"
   ]
  },
  {
   "cell_type": "code",
   "execution_count": 16,
   "metadata": {},
   "outputs": [
    {
     "name": "stdout",
     "output_type": "stream",
     "text": [
      "Процент достижения успешного 'submit' после 'run' для всех: 41\n"
     ]
    }
   ],
   "source": [
    "# Сгруппировать данные по user_id и lis_result_sourcedid\n",
    "grouped = df.groupby(['user_id', 'lis_result_sourcedid'])\n",
    "\n",
    "# Функция для вычисления успешных переходов\n",
    "def calculate_transition(group):\n",
    "    runs = group[group['attempt_type'] == 'run'].shape[0]\n",
    "    submits_success = group[(group['attempt_type'] == 'submit') & (group['is_correct'] == True)].shape[0]\n",
    "    return submits_success, runs\n",
    "\n",
    "# Применяем функцию к каждой группе и получаем общие данные\n",
    "result = grouped.apply(calculate_transition)\n",
    "\n",
    "# Разбиваем результаты на отдельные серии для суммирования\n",
    "total_submits_success = result.apply(lambda x: x[0]).sum()\n",
    "total_runs = result.apply(lambda x: x[1]).sum()\n",
    "\n",
    "# Рассчитываем общее среднее значение\n",
    "overall_rate = (total_submits_success / total_runs) * 100 if total_runs > 0 else 0\n",
    "\n",
    "print(f\"Процент достижения успешного 'submit' после 'run' для всех: {round(overall_rate)}\")"
   ]
  },
  {
   "cell_type": "markdown",
   "metadata": {},
   "source": [
    "## Выгрузка статистики в Google Sheets"
   ]
  },
  {
   "cell_type": "code",
   "execution_count": 17,
   "metadata": {},
   "outputs": [],
   "source": [
    "# Выгрузка статистики в Google Sheets\n",
    "\n",
    "# Указываем необходимые права доступа к таблицам\n",
    "scope = ['https://www.googleapis.com/auth/spreadsheets',\n",
    "         'https://www.googleapis.com/auth/drive']\n",
    "\n",
    "# Загружаем ключи аутентификации из файла json\n",
    "creds = ServiceAccountCredentials.from_json_keyfile_name('auto-and-deploy-d398c3c583a8.json', scope)\n",
    "\n",
    "# Авторизуемся в Google Sheets API\n",
    "client = gspread.authorize(creds)\n",
    "\n",
    "spreadsheet = client.open_by_key('1GWKQpj-kJ57ex0s7TYY4-zDh_P4BMtq5UXcl-qUl6mE')\n",
    "\n",
    "today = datetime.datetime.today().strftime(\"%d.%m\")\n",
    "\n",
    "sheet_name = f'Отчет за {today}'\n",
    "medians_sheet = spreadsheet.add_worksheet(title=sheet_name, rows=15, cols=15)\n",
    "\n",
    "# Данные, которые будут записаны\n",
    "data = [\n",
    "    ['Metric', 'Value'],\n",
    "    ['Общее количество попыток', total_cnt],\n",
    "    ['Количество уникальных пользователей', unique_users],\n",
    "    ['Среднее количество попыток на пользователя', mean_attempts],\n",
    "    ['Медианное количество попыток на пользователя', median_attempts],\n",
    "    ['Процент успешных \"submit\" после \"run\"', f\"{round(overall_rate)}%\"]\n",
    "]\n",
    "\n",
    "title = [['Распределение попыток:']]\n",
    "medians_sheet.clear()\n",
    "medians_sheet.insert_rows(data, row=1)\n",
    "medians_sheet.insert_rows(title, row=8)\n",
    "medians_sheet.insert_rows(success_list, row=9)\n",
    "\n",
    "\n",
    "# Подключение для дополнительного форматирования\n",
    "service = build('sheets', 'v4', credentials=creds)\n",
    "\n",
    "request_body = {\n",
    "    \"requests\": [\n",
    "        # Выделение полужирным 'Metric' и 'Value'\n",
    "        {\n",
    "            \"repeatCell\": {\n",
    "                \"range\": {\n",
    "                    \"sheetId\": medians_sheet.id,\n",
    "                    \"startRowIndex\": 0,\n",
    "                    \"endRowIndex\": 1,\n",
    "                    \"startColumnIndex\": 0,\n",
    "                    \"endColumnIndex\": 2\n",
    "                },\n",
    "                \"cell\": {\n",
    "                    \"userEnteredFormat\": {\n",
    "                        \"textFormat\": {\n",
    "                            \"bold\": True\n",
    "                        }\n",
    "                    }\n",
    "                },\n",
    "                \"fields\": \"userEnteredFormat(textFormat)\"\n",
    "            }\n",
    "        },\n",
    "        # Выделение полужирным 'Распределение попыток:'\n",
    "        {\n",
    "            \"repeatCell\": {\n",
    "                \"range\": {\n",
    "                    \"sheetId\": medians_sheet.id,\n",
    "                    \"startRowIndex\": 7,\n",
    "                    \"endRowIndex\": 8,\n",
    "                    \"startColumnIndex\": 0,\n",
    "                    \"endColumnIndex\": 1\n",
    "                },\n",
    "                \"cell\": {\n",
    "                    \"userEnteredFormat\": {\n",
    "                        \"textFormat\": {\n",
    "                            \"bold\": True\n",
    "                        }\n",
    "                    }\n",
    "                },\n",
    "                \"fields\": \"userEnteredFormat(textFormat)\"\n",
    "            }\n",
    "        },\n",
    "        # Право-выравнивание для колонки 'Value'\n",
    "        {\n",
    "            \"repeatCell\": {\n",
    "                \"range\": {\n",
    "                    \"sheetId\": medians_sheet.id,\n",
    "                    \"startRowIndex\": 1,\n",
    "                    \"startColumnIndex\": 1,\n",
    "                    \"endColumnIndex\": 2\n",
    "                },\n",
    "                \"cell\": {\n",
    "                    \"userEnteredFormat\": {\n",
    "                        \"horizontalAlignment\": \"RIGHT\"\n",
    "                    }\n",
    "                },\n",
    "                \"fields\": \"userEnteredFormat(horizontalAlignment)\"\n",
    "            }\n",
    "        },\n",
    "        # Автоматическая ширина колонки 'Metric'\n",
    "        {\n",
    "            \"autoResizeDimensions\": {\n",
    "                \"dimensions\": {\n",
    "                    \"sheetId\": medians_sheet.id,\n",
    "                    \"dimension\": \"COLUMNS\",\n",
    "                    \"startIndex\": 0,\n",
    "                    \"endIndex\": 1\n",
    "                }\n",
    "            }\n",
    "        }\n",
    "    ]\n",
    "}\n",
    "\n",
    "# Реализация запросов на обновление форматов\n",
    "service.spreadsheets().batchUpdate(\n",
    "    spreadsheetId='1GWKQpj-kJ57ex0s7TYY4-zDh_P4BMtq5UXcl-qUl6mE',\n",
    "    body=request_body\n",
    ").execute()\n",
    "logging.info('Статистика выгружена в Google Sheets')"
   ]
  },
  {
   "cell_type": "markdown",
   "metadata": {},
   "source": [
    "## Отправка уведомления на почту"
   ]
  },
  {
   "cell_type": "code",
   "execution_count": 18,
   "metadata": {},
   "outputs": [],
   "source": [
    "# Отправка сообщения на почту\n",
    "\n",
    "yesterday = (datetime.datetime.today() - datetime.timedelta(days=1)).strftime(\"%d.%m\")\n",
    "subject = 'LMS python parser '\n",
    "message = f\"Скрипт успешно завершил свою работу. Отчет за {yesterday} подготовлен\"\n",
    "\n",
    "msg = EmailMessage()\n",
    "msg['Subject'] = subject\n",
    "msg['From'] = sender_mail\n",
    "msg['To'] = receiver_email\n",
    "\n",
    "msg.set_content(message)\n",
    "\n",
    "context = ssl.create_default_context()\n",
    "with smtplib.SMTP_SSL(smtp_server, port, context=context) as server:\n",
    "    server.login(sender_mail, mail_password)\n",
    "    server.send_message(msg=msg) \n",
    "logging.info('Уведомление о подготовке отчета отправлено')"
   ]
  },
  {
   "cell_type": "markdown",
   "metadata": {},
   "source": [
    "## Удаление устаревших лог файлов"
   ]
  },
  {
   "cell_type": "code",
   "execution_count": 19,
   "metadata": {},
   "outputs": [],
   "source": [
    "# Удаление устаревших лог файлов\n",
    "\n",
    "# Поиск всех .log файлов в указанной папке\n",
    "log_files = glob.glob(os.path.join(log_directory, '*.log'))\n",
    "\n",
    "for log_file in log_files:\n",
    "    date = re.findall(r'\\d{4}-\\d{2}-\\d{2}', log_file)[0]  # Извлечение даты\n",
    "    # Сравнение даты файла с сегодняшней датой минус 3 дня\n",
    "    if datetime.datetime.strptime(date, '%Y-%m-%d') <= (datetime.datetime.today() - datetime.timedelta(days=3)):\n",
    "        os.remove(log_file)\n",
    "        logging.info(f'Удалён файл {log_file}')\n",
    "\n",
    "# Вывод сообщения о завершении\n",
    "logging.info(\"Удаление устаревших .log файлов завершено.\")\n",
    "logging.info(\"Логирование завершено.\")"
   ]
  },
  {
   "cell_type": "code",
   "execution_count": null,
   "metadata": {},
   "outputs": [],
   "source": []
  }
 ],
 "metadata": {
  "kernelspec": {
   "display_name": "Python 3",
   "language": "python",
   "name": "python3"
  },
  "language_info": {
   "codemirror_mode": {
    "name": "ipython",
    "version": 3
   },
   "file_extension": ".py",
   "mimetype": "text/x-python",
   "name": "python",
   "nbconvert_exporter": "python",
   "pygments_lexer": "ipython3",
   "version": "3.8.5"
  }
 },
 "nbformat": 4,
 "nbformat_minor": 4
}
